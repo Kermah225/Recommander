{
  "cells": [
    {
      "cell_type": "markdown",
      "metadata": {
        "id": "view-in-github",
        "colab_type": "text"
      },
      "source": [
        "<a href=\"https://colab.research.google.com/github/Kermah225/Recommander/blob/main/SYSTEME_DE_RECOMMANDATION_DE_FILMS1.ipynb\" target=\"_parent\"><img src=\"https://colab.research.google.com/assets/colab-badge.svg\" alt=\"Open In Colab\"/></a>"
      ]
    },
    {
      "cell_type": "code",
      "execution_count": null,
      "metadata": {
        "colab": {
          "base_uri": "https://localhost:8080/"
        },
        "id": "2kwbJypYDTSs",
        "outputId": "53934948-d501-473e-b61a-4819641fc996"
      },
      "outputs": [
        {
          "output_type": "stream",
          "name": "stdout",
          "text": [
            "Looking in indexes: https://pypi.org/simple, https://us-python.pkg.dev/colab-wheels/public/simple/\n",
            "Requirement already satisfied: flask in /usr/local/lib/python3.10/dist-packages (2.2.4)\n",
            "Requirement already satisfied: Werkzeug>=2.2.2 in /usr/local/lib/python3.10/dist-packages (from flask) (2.3.0)\n",
            "Requirement already satisfied: Jinja2>=3.0 in /usr/local/lib/python3.10/dist-packages (from flask) (3.1.2)\n",
            "Requirement already satisfied: itsdangerous>=2.0 in /usr/local/lib/python3.10/dist-packages (from flask) (2.1.2)\n",
            "Requirement already satisfied: click>=8.0 in /usr/local/lib/python3.10/dist-packages (from flask) (8.1.3)\n",
            "Requirement already satisfied: MarkupSafe>=2.0 in /usr/local/lib/python3.10/dist-packages (from Jinja2>=3.0->flask) (2.1.2)\n"
          ]
        }
      ],
      "source": [
        "! pip install flask"
      ]
    },
    {
      "cell_type": "markdown",
      "source": [
        "#1. IMPORTATION DE LA BASE DE DONNEES\n",
        "\n",
        "\n"
      ],
      "metadata": {
        "id": "yOhSQWVzI2rc"
      }
    },
    {
      "cell_type": "code",
      "execution_count": null,
      "metadata": {
        "id": "5v90CUXKSqpn"
      },
      "outputs": [],
      "source": [
        "import pandas as pd\n",
        "movies_df = pd.read_csv('movies.csv')\n",
        "ratings_df = pd.read_csv('ratings.csv').drop(['timestamp'],axis=1)"
      ]
    },
    {
      "cell_type": "code",
      "execution_count": null,
      "metadata": {
        "id": "QG3_qyNHTS2m"
      },
      "outputs": [],
      "source": [
        "import sqlite3"
      ]
    },
    {
      "cell_type": "code",
      "execution_count": null,
      "metadata": {
        "colab": {
          "base_uri": "https://localhost:8080/"
        },
        "id": "wyOiNdrcTsHd",
        "outputId": "c2f89022-38ae-46ab-d28a-2b355a4afaa6"
      },
      "outputs": [
        {
          "output_type": "execute_result",
          "data": {
            "text/plain": [
              "100836"
            ]
          },
          "metadata": {},
          "execution_count": 4
        }
      ],
      "source": [
        "conn = sqlite3.connect('recommender.db')\n",
        "movies_df.to_sql('movies', conn, if_exists='replace', index=False)\n",
        "ratings_df.to_sql('ratings', conn, if_exists='replace', index=False)\n"
      ]
    },
    {
      "cell_type": "code",
      "execution_count": null,
      "metadata": {
        "id": "WbreDWLcegbg"
      },
      "outputs": [],
      "source": [
        "from sklearn.feature_extraction.text import CountVectorizer\n",
        "from sklearn.metrics.pairwise import cosine_similarity\n",
        "import threading\n",
        "db_lock = threading.Lock()"
      ]
    },
    {
      "cell_type": "markdown",
      "source": [
        "#2. ANALYSE EXPLORATOIRE DES DONNEES"
      ],
      "metadata": {
        "id": "8NyF9YKQKNEa"
      }
    },
    {
      "cell_type": "code",
      "source": [
        "import pandas as pd\n",
        "\n",
        "\n",
        "# Afficher les premières lignes des DataFrames\n",
        "print(\"Informations sur les films :\")\n",
        "print(movies_df.head())\n",
        "\n",
        "print(\"\\nNotes attribuées :\")\n",
        "print(ratings_df.head())\n",
        "\n",
        "# Nombre de films et de notes\n",
        "num_movies = movies_df.shape[0]\n",
        "num_ratings = ratings_df.shape[0]\n",
        "\n",
        "print(\"\\nNombre total de films :\", num_movies)\n",
        "print(\"Nombre total de notes :\", num_ratings)\n",
        "\n",
        "# Statistiques descriptives des notes attribuées\n",
        "ratings_stats = ratings_df['rating'].describe()\n",
        "print(\"\\nStatistiques des notes attribuées :\\n\", ratings_stats)\n",
        "\n",
        "# Fusionner les DataFrames movies et ratings\n",
        "merged_df = pd.merge(movies_df, ratings_df, on='movieId')\n",
        "\n",
        "# Moyenne des notes par film\n",
        "average_ratings = merged_df.groupby('movieId')['rating'].mean()\n",
        "\n",
        "# Top 10 des films les mieux notés\n",
        "top_10_movies = average_ratings.nlargest(10)\n",
        "print(\"\\nTop 10 des films les mieux notés :\\n\", top_10_movies)\n",
        "\n",
        "# Nombre de genres uniques\n",
        "unique_genres = movies_df['genres'].nunique()\n",
        "print(\"\\nNombre de genres uniques :\", unique_genres)\n",
        "\n",
        "# Distribution des genres\n",
        "genre_counts = movies_df['genres'].value_counts()\n",
        "print(\"\\nDistribution des genres :\\n\", genre_counts)\n"
      ],
      "metadata": {
        "id": "K1H2T2B8KL_b",
        "colab": {
          "base_uri": "https://localhost:8080/"
        },
        "outputId": "4ac5d1b3-ff45-401b-9280-9eef8014f204"
      },
      "execution_count": null,
      "outputs": [
        {
          "output_type": "stream",
          "name": "stdout",
          "text": [
            "Informations sur les films :\n",
            "   movieId                               title  \\\n",
            "0        1                    Toy Story (1995)   \n",
            "1        2                      Jumanji (1995)   \n",
            "2        3             Grumpier Old Men (1995)   \n",
            "3        4            Waiting to Exhale (1995)   \n",
            "4        5  Father of the Bride Part II (1995)   \n",
            "\n",
            "                                        genres  \n",
            "0  Adventure|Animation|Children|Comedy|Fantasy  \n",
            "1                   Adventure|Children|Fantasy  \n",
            "2                               Comedy|Romance  \n",
            "3                         Comedy|Drama|Romance  \n",
            "4                                       Comedy  \n",
            "\n",
            "Notes attribuées :\n",
            "   userId  movieId  rating\n",
            "0       1        1     4.0\n",
            "1       1        3     4.0\n",
            "2       1        6     4.0\n",
            "3       1       47     5.0\n",
            "4       1       50     5.0\n",
            "\n",
            "Nombre total de films : 9742\n",
            "Nombre total de notes : 100836\n",
            "\n",
            "Statistiques des notes attribuées :\n",
            " count    100836.000000\n",
            "mean          3.501557\n",
            "std           1.042529\n",
            "min           0.500000\n",
            "25%           3.000000\n",
            "50%           3.500000\n",
            "75%           4.000000\n",
            "max           5.000000\n",
            "Name: rating, dtype: float64\n",
            "\n",
            "Top 10 des films les mieux notés :\n",
            " movieId\n",
            "53      5.0\n",
            "99      5.0\n",
            "148     5.0\n",
            "467     5.0\n",
            "495     5.0\n",
            "496     5.0\n",
            "626     5.0\n",
            "633     5.0\n",
            "876     5.0\n",
            "1140    5.0\n",
            "Name: rating, dtype: float64\n",
            "\n",
            "Nombre de genres uniques : 951\n",
            "\n",
            "Distribution des genres :\n",
            " Drama                                                  1053\n",
            "Comedy                                                  946\n",
            "Comedy|Drama                                            435\n",
            "Comedy|Romance                                          363\n",
            "Drama|Romance                                           349\n",
            "                                                       ... \n",
            "Action|Crime|Horror|Mystery|Thriller                      1\n",
            "Adventure|Animation|Children|Comedy|Musical|Romance       1\n",
            "Action|Adventure|Animation|Comedy|Crime|Mystery           1\n",
            "Children|Comedy|Fantasy|Sci-Fi                            1\n",
            "Action|Animation|Comedy|Fantasy                           1\n",
            "Name: genres, Length: 951, dtype: int64\n"
          ]
        }
      ]
    },
    {
      "cell_type": "code",
      "source": [
        "import pandas as pd\n",
        "import matplotlib.pyplot as plt\n",
        "\n",
        "# Fusionner les DataFrames movies et ratings\n",
        "merged_df = pd.merge(movies_df, ratings_df, on='movieId')\n",
        "\n",
        "# Histogramme des notes attribuées\n",
        "plt.hist(ratings_df['rating'], bins=10, edgecolor='black')\n",
        "plt.xlabel('Note')\n",
        "plt.ylabel('Fréquence')\n",
        "plt.title('Distribution des notes attribuées')\n",
        "plt.show()\n",
        "\n",
        "# Nombre de films par genre\n",
        "genre_counts = movies_df['genres'].value_counts().head(10)\n",
        "plt.bar(genre_counts.index, genre_counts.values)\n",
        "plt.xlabel('Genre')\n",
        "plt.ylabel('Nombre de films')\n",
        "plt.title('Top 10 des genres les plus fréquents')\n",
        "plt.xticks(rotation=45)\n",
        "plt.show()\n",
        "\n",
        "# Diagramme à secteurs des genres\n",
        "genre_percentages = movies_df['genres'].value_counts(normalize=True).head(10) * 100\n",
        "plt.pie(genre_percentages, labels=genre_percentages.index, autopct='%1.1f%%')\n",
        "plt.title('Répartition des genres')\n",
        "plt.axis('equal')\n",
        "plt.show()\n",
        "\n",
        "# Moyenne des notes par genre\n",
        "average_ratings_by_genre = merged_df.groupby('genres')['rating'].mean().sort_values(ascending=False).head(10)\n",
        "plt.barh(average_ratings_by_genre.index, average_ratings_by_genre.values)\n",
        "plt.xlabel('Note moyenne')\n",
        "plt.ylabel('Genre')\n",
        "plt.title('Top 10 des genres avec la meilleure note moyenne')\n",
        "plt.show()\n"
      ],
      "metadata": {
        "colab": {
          "base_uri": "https://localhost:8080/",
          "height": 1000
        },
        "id": "7J0LdyXrbx1M",
        "outputId": "e976473b-3722-42c8-ccfe-e1c04124e6c7"
      },
      "execution_count": null,
      "outputs": [
        {
          "output_type": "display_data",
          "data": {
            "text/plain": [
              "<Figure size 640x480 with 1 Axes>"
            ],
            "image/png": "[encoded data removed]"
          },
          "metadata": {}
        },
        {
          "output_type": "display_data",
          "data": {
            "text/plain": [
              "<Figure size 640x480 with 1 Axes>"
            ],
            "image/png": "[encoded data removed]"
          },
          "metadata": {}
        },
        {
          "output_type": "display_data",
          "data": {
            "text/plain": [
              "<Figure size 640x480 with 1 Axes>"
            ],
            "image/png": "[encoded data removed]"
          },
          "metadata": {}
        },
        {
          "output_type": "display_data",
          "data": {
            "text/plain": [
              "<Figure size 640x480 with 1 Axes>"
            ],
            "image/png": "[encoded data removed]"
          },
          "metadata": {}
        }
      ]
    },
    {
      "cell_type": "markdown",
      "source": [
        "#3. LES METHODES DE SYSTEME DE RECOMMANDATION"
      ],
      "metadata": {
        "id": "H5wQ6L6TlXEh"
      }
    },
    {
      "cell_type": "markdown",
      "source": [
        "##SYSTEME DE RECOMMANDATION BASE SUR LE CONTENU\n",
        "Dans notre cas, il s'agit du genre du film."
      ],
      "metadata": {
        "id": "IFSV890jljdm"
      }
    },
    {
      "cell_type": "code",
      "execution_count": null,
      "metadata": {
        "colab": {
          "base_uri": "https://localhost:8080/",
          "height": 305
        },
        "id": "t_aEiho1UItI",
        "outputId": "0849863a-c5b7-4605-bc91-fc53933e4303"
      },
      "outputs": [
        {
          "output_type": "stream",
          "name": "stderr",
          "text": [
            "/usr/local/lib/python3.10/dist-packages/sklearn/feature_extraction/text.py:528: UserWarning: The parameter 'token_pattern' will not be used since 'tokenizer' is not None'\n",
            "  warnings.warn(\n"
          ]
        },
        {
          "output_type": "execute_result",
          "data": {
            "text/plain": [
              "      movieId                                           title  \\\n",
              "8219   103755                                    Turbo (2013)   \n",
              "3568     4886                           Monsters, Inc. (2001)   \n",
              "9430   166461                                    Moana (2016)   \n",
              "3000     4016                Emperor's New Groove, The (2000)   \n",
              "2809     3754  Adventures of Rocky and Bullwinkle, The (2000)   \n",
              "\n",
              "                                           genres  \n",
              "8219  Adventure|Animation|Children|Comedy|Fantasy  \n",
              "3568  Adventure|Animation|Children|Comedy|Fantasy  \n",
              "9430  Adventure|Animation|Children|Comedy|Fantasy  \n",
              "3000  Adventure|Animation|Children|Comedy|Fantasy  \n",
              "2809  Adventure|Animation|Children|Comedy|Fantasy  "
            ],
            "text/html": [
              "\n",
              "  <div id=\"df-ebf8f850-d95c-4c2a-a2e9-837f955fb7e3\">\n",
              "    <div class=\"colab-df-container\">\n",
              "      <div>\n",
              "<style scoped>\n",
              "    .dataframe tbody tr th:only-of-type {\n",
              "        vertical-align: middle;\n",
              "    }\n",
              "\n",
              "    .dataframe tbody tr th {\n",
              "        vertical-align: top;\n",
              "    }\n",
              "\n",
              "    .dataframe thead th {\n",
              "        text-align: right;\n",
              "    }\n",
              "</style>\n",
              "<table border=\"1\" class=\"dataframe\">\n",
              "  <thead>\n",
              "    <tr style=\"text-align: right;\">\n",
              "      <th></th>\n",
              "      <th>movieId</th>\n",
              "      <th>title</th>\n",
              "      <th>genres</th>\n",
              "    </tr>\n",
              "  </thead>\n",
              "  <tbody>\n",
              "    <tr>\n",
              "      <th>8219</th>\n",
              "      <td>103755</td>\n",
              "      <td>Turbo (2013)</td>\n",
              "      <td>Adventure|Animation|Children|Comedy|Fantasy</td>\n",
              "    </tr>\n",
              "    <tr>\n",
              "      <th>3568</th>\n",
              "      <td>4886</td>\n",
              "      <td>Monsters, Inc. (2001)</td>\n",
              "      <td>Adventure|Animation|Children|Comedy|Fantasy</td>\n",
              "    </tr>\n",
              "    <tr>\n",
              "      <th>9430</th>\n",
              "      <td>166461</td>\n",
              "      <td>Moana (2016)</td>\n",
              "      <td>Adventure|Animation|Children|Comedy|Fantasy</td>\n",
              "    </tr>\n",
              "    <tr>\n",
              "      <th>3000</th>\n",
              "      <td>4016</td>\n",
              "      <td>Emperor's New Groove, The (2000)</td>\n",
              "      <td>Adventure|Animation|Children|Comedy|Fantasy</td>\n",
              "    </tr>\n",
              "    <tr>\n",
              "      <th>2809</th>\n",
              "      <td>3754</td>\n",
              "      <td>Adventures of Rocky and Bullwinkle, The (2000)</td>\n",
              "      <td>Adventure|Animation|Children|Comedy|Fantasy</td>\n",
              "    </tr>\n",
              "  </tbody>\n",
              "</table>\n",
              "</div>\n",
              "      <button class=\"colab-df-convert\" onclick=\"convertToInteractive('df-ebf8f850-d95c-4c2a-a2e9-837f955fb7e3')\"\n",
              "              title=\"Convert this dataframe to an interactive table.\"\n",
              "              style=\"display:none;\">\n",
              "        \n",
              "  <svg xmlns=\"http://www.w3.org/2000/svg\" height=\"24px\"viewBox=\"0 0 24 24\"\n",
              "       width=\"24px\">\n",
              "    <path d=\"M0 0h24v24H0V0z\" fill=\"none\"/>\n",
              "    <path d=\"M18.56 5.44l.94 2.06.94-2.06 2.06-.94-2.06-.94-.94-2.06-.94 2.06-2.06.94zm-11 1L8.5 8.5l.94-2.06 2.06-.94-2.06-.94L8.5 2.5l-.94 2.06-2.06.94zm10 10l.94 2.06.94-2.06 2.06-.94-2.06-.94-.94-2.06-.94 2.06-2.06.94z\"/><path d=\"M17.41 7.96l-1.37-1.37c-.4-.4-.92-.59-1.43-.59-.52 0-1.04.2-1.43.59L10.3 9.45l-7.72 7.72c-.78.78-.78 2.05 0 2.83L4 21.41c.39.39.9.59 1.41.59.51 0 1.02-.2 1.41-.59l7.78-7.78 2.81-2.81c.8-.78.8-2.07 0-2.86zM5.41 20L4 18.59l7.72-7.72 1.47 1.35L5.41 20z\"/>\n",
              "  </svg>\n",
              "      </button>\n",
              "      \n",
              "  <style>\n",
              "    .colab-df-container {\n",
              "      display:flex;\n",
              "      flex-wrap:wrap;\n",
              "      gap: 12px;\n",
              "    }\n",
              "\n",
              "    .colab-df-convert {\n",
              "      background-color: #E8F0FE;\n",
              "      border: none;\n",
              "      border-radius: 50%;\n",
              "      cursor: pointer;\n",
              "      display: none;\n",
              "      fill: #1967D2;\n",
              "      height: 32px;\n",
              "      padding: 0 0 0 0;\n",
              "      width: 32px;\n",
              "    }\n",
              "\n",
              "    .colab-df-convert:hover {\n",
              "      background-color: #E2EBFA;\n",
              "      box-shadow: 0px 1px 2px rgba(60, 64, 67, 0.3), 0px 1px 3px 1px rgba(60, 64, 67, 0.15);\n",
              "      fill: #174EA6;\n",
              "    }\n",
              "\n",
              "    [theme=dark] .colab-df-convert {\n",
              "      background-color: #3B4455;\n",
              "      fill: #D2E3FC;\n",
              "    }\n",
              "\n",
              "    [theme=dark] .colab-df-convert:hover {\n",
              "      background-color: #434B5C;\n",
              "      box-shadow: 0px 1px 3px 1px rgba(0, 0, 0, 0.15);\n",
              "      filter: drop-shadow(0px 1px 2px rgba(0, 0, 0, 0.3));\n",
              "      fill: #FFFFFF;\n",
              "    }\n",
              "  </style>\n",
              "\n",
              "      <script>\n",
              "        const buttonEl =\n",
              "          document.querySelector('#df-ebf8f850-d95c-4c2a-a2e9-837f955fb7e3 button.colab-df-convert');\n",
              "        buttonEl.style.display =\n",
              "          google.colab.kernel.accessAllowed ? 'block' : 'none';\n",
              "\n",
              "        async function convertToInteractive(key) {\n",
              "          const element = document.querySelector('#df-ebf8f850-d95c-4c2a-a2e9-837f955fb7e3');\n",
              "          const dataTable =\n",
              "            await google.colab.kernel.invokeFunction('convertToInteractive',\n",
              "                                                     [key], {});\n",
              "          if (!dataTable) return;\n",
              "\n",
              "          const docLinkHtml = 'Like what you see? Visit the ' +\n",
              "            '<a target=\"_blank\" href=https://colab.research.google.com/notebooks/data_table.ipynb>data table notebook</a>'\n",
              "            + ' to learn more about interactive tables.';\n",
              "          element.innerHTML = '';\n",
              "          dataTable['output_type'] = 'display_data';\n",
              "          await google.colab.output.renderOutput(dataTable, element);\n",
              "          const docLink = document.createElement('div');\n",
              "          docLink.innerHTML = docLinkHtml;\n",
              "          element.appendChild(docLink);\n",
              "        }\n",
              "      </script>\n",
              "    </div>\n",
              "  </div>\n",
              "  "
            ]
          },
          "metadata": {},
          "execution_count": 29
        }
      ],
      "source": [
        "def content_based_recommendation(movie_title, top_n=5):\n",
        "    # Créer une instance de CountVectorizer pour représenter les genres\n",
        "    vectorizer = CountVectorizer(tokenizer=lambda x: x.split('|'))\n",
        "    genre_matrix = vectorizer.fit_transform(movies_df['genres'])\n",
        "\n",
        "    # Trouver l'index du film donné\n",
        "    movie_index = movies_df[movies_df['title'] == movie_title].index[0]\n",
        "\n",
        "    # Calculer les similarités cosinus entre les films\n",
        "    similarities = cosine_similarity(genre_matrix, genre_matrix[movie_index])\n",
        "\n",
        "    # Récupérer les indices des films similaires\n",
        "    similar_indices = similarities.argsort(axis=0)[-top_n-1:-1][::-1]\n",
        "\n",
        "    # Récupérer les films similaires\n",
        "    similar_movies = movies_df.iloc[similar_indices.flatten()].copy()\n",
        "\n",
        "    return similar_movies\n",
        "\n",
        "#Exemple\n",
        "content_based_recommendation('Toy Story (1995)', top_n=5)"
      ]
    },
    {
      "cell_type": "markdown",
      "source": [
        "##SYSTEME DE RECOMMANDATION BASE SUR L'UTILISATEUR\n",
        "Dans notre cas, on se basera sur les préférences de l'utilisateur en termes de genres de film."
      ],
      "metadata": {
        "id": "mxSrjM7ol7kU"
      }
    },
    {
      "cell_type": "code",
      "execution_count": null,
      "metadata": {
        "colab": {
          "base_uri": "https://localhost:8080/",
          "height": 206
        },
        "id": "H2odP-tCkVg0",
        "outputId": "66cd59bd-defa-494f-cc0d-11b11bf61687"
      },
      "outputs": [
        {
          "output_type": "execute_result",
          "data": {
            "text/plain": [
              "       movieId                                              title  \\\n",
              "25648     3668                            Romeo and Juliet (1968)   \n",
              "9284       898                     Philadelphia Story, The (1940)   \n",
              "23078     3100                    River Runs Through It, A (1992)   \n",
              "23070     3099                                     Shampoo (1975)   \n",
              "34991     6947  Master and Commander: The Far Side of the Worl...   \n",
              "\n",
              "                     genres  \n",
              "25648         Drama|Romance  \n",
              "9284   Comedy|Drama|Romance  \n",
              "23078                 Drama  \n",
              "23070  Comedy|Drama|Romance  \n",
              "34991   Adventure|Drama|War  "
            ],
            "text/html": [
              "\n",
              "  <div id=\"df-e3f6b443-308e-4aa1-b727-b9fc5cb2a835\">\n",
              "    <div class=\"colab-df-container\">\n",
              "      <div>\n",
              "<style scoped>\n",
              "    .dataframe tbody tr th:only-of-type {\n",
              "        vertical-align: middle;\n",
              "    }\n",
              "\n",
              "    .dataframe tbody tr th {\n",
              "        vertical-align: top;\n",
              "    }\n",
              "\n",
              "    .dataframe thead th {\n",
              "        text-align: right;\n",
              "    }\n",
              "</style>\n",
              "<table border=\"1\" class=\"dataframe\">\n",
              "  <thead>\n",
              "    <tr style=\"text-align: right;\">\n",
              "      <th></th>\n",
              "      <th>movieId</th>\n",
              "      <th>title</th>\n",
              "      <th>genres</th>\n",
              "    </tr>\n",
              "  </thead>\n",
              "  <tbody>\n",
              "    <tr>\n",
              "      <th>25648</th>\n",
              "      <td>3668</td>\n",
              "      <td>Romeo and Juliet (1968)</td>\n",
              "      <td>Drama|Romance</td>\n",
              "    </tr>\n",
              "    <tr>\n",
              "      <th>9284</th>\n",
              "      <td>898</td>\n",
              "      <td>Philadelphia Story, The (1940)</td>\n",
              "      <td>Comedy|Drama|Romance</td>\n",
              "    </tr>\n",
              "    <tr>\n",
              "      <th>23078</th>\n",
              "      <td>3100</td>\n",
              "      <td>River Runs Through It, A (1992)</td>\n",
              "      <td>Drama</td>\n",
              "    </tr>\n",
              "    <tr>\n",
              "      <th>23070</th>\n",
              "      <td>3099</td>\n",
              "      <td>Shampoo (1975)</td>\n",
              "      <td>Comedy|Drama|Romance</td>\n",
              "    </tr>\n",
              "    <tr>\n",
              "      <th>34991</th>\n",
              "      <td>6947</td>\n",
              "      <td>Master and Commander: The Far Side of the Worl...</td>\n",
              "      <td>Adventure|Drama|War</td>\n",
              "    </tr>\n",
              "  </tbody>\n",
              "</table>\n",
              "</div>\n",
              "      <button class=\"colab-df-convert\" onclick=\"convertToInteractive('df-e3f6b443-308e-4aa1-b727-b9fc5cb2a835')\"\n",
              "              title=\"Convert this dataframe to an interactive table.\"\n",
              "              style=\"display:none;\">\n",
              "        \n",
              "  <svg xmlns=\"http://www.w3.org/2000/svg\" height=\"24px\"viewBox=\"0 0 24 24\"\n",
              "       width=\"24px\">\n",
              "    <path d=\"M0 0h24v24H0V0z\" fill=\"none\"/>\n",
              "    <path d=\"M18.56 5.44l.94 2.06.94-2.06 2.06-.94-2.06-.94-.94-2.06-.94 2.06-2.06.94zm-11 1L8.5 8.5l.94-2.06 2.06-.94-2.06-.94L8.5 2.5l-.94 2.06-2.06.94zm10 10l.94 2.06.94-2.06 2.06-.94-2.06-.94-.94-2.06-.94 2.06-2.06.94z\"/><path d=\"M17.41 7.96l-1.37-1.37c-.4-.4-.92-.59-1.43-.59-.52 0-1.04.2-1.43.59L10.3 9.45l-7.72 7.72c-.78.78-.78 2.05 0 2.83L4 21.41c.39.39.9.59 1.41.59.51 0 1.02-.2 1.41-.59l7.78-7.78 2.81-2.81c.8-.78.8-2.07 0-2.86zM5.41 20L4 18.59l7.72-7.72 1.47 1.35L5.41 20z\"/>\n",
              "  </svg>\n",
              "      </button>\n",
              "      \n",
              "  <style>\n",
              "    .colab-df-container {\n",
              "      display:flex;\n",
              "      flex-wrap:wrap;\n",
              "      gap: 12px;\n",
              "    }\n",
              "\n",
              "    .colab-df-convert {\n",
              "      background-color: #E8F0FE;\n",
              "      border: none;\n",
              "      border-radius: 50%;\n",
              "      cursor: pointer;\n",
              "      display: none;\n",
              "      fill: #1967D2;\n",
              "      height: 32px;\n",
              "      padding: 0 0 0 0;\n",
              "      width: 32px;\n",
              "    }\n",
              "\n",
              "    .colab-df-convert:hover {\n",
              "      background-color: #E2EBFA;\n",
              "      box-shadow: 0px 1px 2px rgba(60, 64, 67, 0.3), 0px 1px 3px 1px rgba(60, 64, 67, 0.15);\n",
              "      fill: #174EA6;\n",
              "    }\n",
              "\n",
              "    [theme=dark] .colab-df-convert {\n",
              "      background-color: #3B4455;\n",
              "      fill: #D2E3FC;\n",
              "    }\n",
              "\n",
              "    [theme=dark] .colab-df-convert:hover {\n",
              "      background-color: #434B5C;\n",
              "      box-shadow: 0px 1px 3px 1px rgba(0, 0, 0, 0.15);\n",
              "      filter: drop-shadow(0px 1px 2px rgba(0, 0, 0, 0.3));\n",
              "      fill: #FFFFFF;\n",
              "    }\n",
              "  </style>\n",
              "\n",
              "      <script>\n",
              "        const buttonEl =\n",
              "          document.querySelector('#df-e3f6b443-308e-4aa1-b727-b9fc5cb2a835 button.colab-df-convert');\n",
              "        buttonEl.style.display =\n",
              "          google.colab.kernel.accessAllowed ? 'block' : 'none';\n",
              "\n",
              "        async function convertToInteractive(key) {\n",
              "          const element = document.querySelector('#df-e3f6b443-308e-4aa1-b727-b9fc5cb2a835');\n",
              "          const dataTable =\n",
              "            await google.colab.kernel.invokeFunction('convertToInteractive',\n",
              "                                                     [key], {});\n",
              "          if (!dataTable) return;\n",
              "\n",
              "          const docLinkHtml = 'Like what you see? Visit the ' +\n",
              "            '<a target=\"_blank\" href=https://colab.research.google.com/notebooks/data_table.ipynb>data table notebook</a>'\n",
              "            + ' to learn more about interactive tables.';\n",
              "          element.innerHTML = '';\n",
              "          dataTable['output_type'] = 'display_data';\n",
              "          await google.colab.output.renderOutput(dataTable, element);\n",
              "          const docLink = document.createElement('div');\n",
              "          docLink.innerHTML = docLinkHtml;\n",
              "          element.appendChild(docLink);\n",
              "        }\n",
              "      </script>\n",
              "    </div>\n",
              "  </div>\n",
              "  "
            ]
          },
          "metadata": {},
          "execution_count": 30
        }
      ],
      "source": [
        "# Fonction pour obtenir les recommandations basées sur les genres préférés de l'utilisateur\n",
        "def get_genre_preferences(user_id):\n",
        "    # Obtenez les films notés par l'utilisateur\n",
        "    user_movies = ratings_df[ratings_df['userId'] == user_id]['movieId']\n",
        "\n",
        "    # Calculez la moyenne des notes pour chaque genre de film\n",
        "    genre_ratings = movies_df[movies_df['movieId'].isin(user_movies)].merge(ratings_df, on='movieId')\n",
        "    genre_preferences = genre_ratings.groupby('genres')['rating'].mean().reset_index()\n",
        "\n",
        "    # Divisez les genres en catégories individuelles\n",
        "    genre_preferences['genres'] = genre_preferences['genres'].str.split('|')\n",
        "    genre_preferences = genre_preferences.explode('genres')\n",
        "\n",
        "    # Triez les genres par note moyenne décroissante\n",
        "    genre_preferences = genre_preferences.groupby('genres')['rating'].mean().reset_index()\n",
        "    genre_preferences = genre_preferences.sort_values('rating', ascending=False)\n",
        "\n",
        "    return genre_preferences\n",
        "\n",
        "# Fonction pour obtenir les recommandations de films basées sur les genres préférés de l'utilisateur\n",
        "def get_genre_based_recommendations(user_id, top_n=5):\n",
        "    # Obtenez les genres préférés de l'utilisateur\n",
        "    genre_preferences = get_genre_preferences(user_id)\n",
        "    top_genres = genre_preferences.head(top_n)['genres']\n",
        "\n",
        "    # Obtenez les films non visionnés par l'utilisateur\n",
        "    user_movies = ratings_df[ratings_df['userId'] == user_id]['movieId']\n",
        "    unwatched_movies = movies_df[~movies_df['movieId'].isin(user_movies)]\n",
        "\n",
        "    # Sélectionnez les films du même genre que les genres préférés de l'utilisateur\n",
        "    genre_based_recommendations = unwatched_movies[unwatched_movies['genres'].apply(lambda x: any(genre in x for genre in top_genres))]\n",
        "\n",
        "       # Fusionnez les données de notation pour obtenir les informations de notation nécessaires\n",
        "    genre_based_recommendations = genre_based_recommendations.merge(ratings_df, on='movieId')\n",
        "\n",
        "    # Triez les films par rating décroissant\n",
        "    genre_based_recommendations = genre_based_recommendations.sort_values('rating', ascending=False).drop_duplicates('title').head(top_n)\n",
        "\n",
        "    #\n",
        "    return genre_based_recommendations.drop(['userId','rating'], axis=1)\n",
        "\n",
        "# Exemple d'utilisation\n",
        "user_id = 1\n",
        "get_genre_based_recommendations(user_id)\n",
        "\n"
      ]
    },
    {
      "cell_type": "markdown",
      "source": [
        "#DEPLOIEMENT DU SYSTEME SOUS FLASK"
      ],
      "metadata": {
        "id": "aZJLEG5UJdmB"
      }
    },
    {
      "cell_type": "markdown",
      "source": [
        "Travaillant sur collab, nous avons été obligé d'utiliser ngrok pour simuler le localhost"
      ],
      "metadata": {
        "id": "VbORP_4131iw"
      }
    },
    {
      "cell_type": "code",
      "execution_count": null,
      "metadata": {
        "colab": {
          "base_uri": "https://localhost:8080/"
        },
        "id": "6QsRvKdMaAWF",
        "outputId": "cfc30e45-c6c1-4423-8994-5a128d3c011f"
      },
      "outputs": [
        {
          "output_type": "stream",
          "name": "stdout",
          "text": [
            "Completed!\n"
          ]
        }
      ],
      "source": [
        "!pip install flask-ngrok --quiet\n",
        "print(\"Completed!\")"
      ]
    },
    {
      "cell_type": "code",
      "execution_count": null,
      "metadata": {
        "colab": {
          "base_uri": "https://localhost:8080/"
        },
        "id": "wMGkF9InaH6P",
        "outputId": "e8fe36b9-57fd-466d-cd64-b8ffc75be201"
      },
      "outputs": [
        {
          "output_type": "stream",
          "name": "stdout",
          "text": [
            "--2023-06-13 16:25:49--  https://bin.equinox.io/c/4VmDzA7iaHb/ngrok-stable-linux-amd64.tgz\n",
            "Resolving bin.equinox.io (bin.equinox.io)... 54.237.133.81, 52.202.168.65, 18.205.222.128, ...\n",
            "Connecting to bin.equinox.io (bin.equinox.io)|54.237.133.81|:443... connected.\n",
            "HTTP request sent, awaiting response... 200 OK\n",
            "Length: 13856790 (13M) [application/octet-stream]\n",
            "Saving to: ‘ngrok-stable-linux-amd64.tgz.3’\n",
            "\n",
            "ngrok-stable-linux- 100%[===================>]  13.21M  54.8MB/s    in 0.2s    \n",
            "\n",
            "2023-06-13 16:25:50 (54.8 MB/s) - ‘ngrok-stable-linux-amd64.tgz.3’ saved [13856790/13856790]\n",
            "\n"
          ]
        }
      ],
      "source": [
        "!wget https://bin.equinox.io/c/4VmDzA7iaHb/ngrok-stable-linux-amd64.tgz"
      ]
    },
    {
      "cell_type": "code",
      "execution_count": null,
      "metadata": {
        "colab": {
          "base_uri": "https://localhost:8080/"
        },
        "id": "1Fym2QfGaRAt",
        "outputId": "ebc96332-265e-459a-92f9-cf90b9a15ee6"
      },
      "outputs": [
        {
          "output_type": "stream",
          "name": "stdout",
          "text": [
            "ngrok\n"
          ]
        }
      ],
      "source": [
        "!tar -xvf /content/ngrok-stable-linux-amd64.tgz"
      ]
    },
    {
      "cell_type": "code",
      "execution_count": null,
      "metadata": {
        "colab": {
          "base_uri": "https://localhost:8080/"
        },
        "id": "R3WUIMtEaaUi",
        "outputId": "6a9d3d81-37c5-416b-93ea-bea9a87c40fe"
      },
      "outputs": [
        {
          "output_type": "stream",
          "name": "stdout",
          "text": [
            "Authtoken saved to configuration file: /root/.ngrok2/ngrok.yml\n"
          ]
        }
      ],
      "source": [
        "!./ngrok authtoken 23H0IY10fqeKMIW7kG05JhKZMae_3Zabr2iqkU9AUcZ7CrRTP"
      ]
    },
    {
      "cell_type": "markdown",
      "source": [
        "##IMPORTATION DES FICHIERS DE BOOTSTRAP ET JS QUERY"
      ],
      "metadata": {
        "id": "8JXZ_NeZ4tNU"
      }
    },
    {
      "cell_type": "code",
      "execution_count": null,
      "metadata": {
        "id": "9zya4dPfb8pM"
      },
      "outputs": [],
      "source": [
        "import requests\n",
        "\n",
        "# URL des fichiers CSS et JavaScript de jQuery\n",
        "css_url = 'https://code.jquery.com/jquery-3.6.0.min.js'\n",
        "js_url = 'https://code.jquery.com/jquery-3.6.0.min.js'\n",
        "\n",
        "# Téléchargement du fichier CSS\n",
        "response = requests.get(css_url)\n",
        "with open('static/css/jquery.min.css', 'wb') as file:\n",
        "    file.write(response.content)\n",
        "\n",
        "# Téléchargement du fichier JavaScript\n",
        "response = requests.get(js_url)\n",
        "with open('static/js/jquery.min.js', 'wb') as file:\n",
        "    file.write(response.content)\n"
      ]
    },
    {
      "cell_type": "code",
      "execution_count": null,
      "metadata": {
        "id": "LGDSLIvxybBM"
      },
      "outputs": [],
      "source": [
        "import requests\n",
        "\n",
        "# URL du fichier CSS de Font Awesome\n",
        "css_url = 'https://cdnjs.cloudflare.com/ajax/libs/font-awesome/5.15.3/css/all.min.css'\n",
        "\n",
        "# Téléchargement du fichier CSS\n",
        "response = requests.get(css_url)\n",
        "with open('static/css/font-awesome.min.css', 'wb') as file:\n",
        "    file.write(response.content)\n"
      ]
    },
    {
      "cell_type": "code",
      "source": [
        "valid_user_ids = list(ratings_df['userId'].unique())\n",
        "valid_movie_titles = list(movies_df['title'].unique())"
      ],
      "metadata": {
        "id": "_CoA2XkZJiYR"
      },
      "execution_count": null,
      "outputs": []
    },
    {
      "cell_type": "markdown",
      "source": [
        "##DEPLOIEMENT SUR FLASK"
      ],
      "metadata": {
        "id": "RBjJ-DRy459F"
      }
    },
    {
      "cell_type": "code",
      "source": [
        "§"
      ],
      "metadata": {
        "id": "MW4Y2RdTlXI4"
      },
      "execution_count": null,
      "outputs": []
    },
    {
      "cell_type": "code",
      "execution_count": null,
      "metadata": {
        "id": "zpKUTW73ZvI0"
      },
      "outputs": [],
      "source": [
        "from flask import Flask, render_template, request\n",
        "from flask_ngrok import run_with_ngrok\n",
        "\n",
        "app = Flask(__name__)\n",
        "run_with_ngrok(app)"
      ]
    },
    {
      "cell_type": "code",
      "execution_count": null,
      "metadata": {
        "id": "mp0LgJZhagSC"
      },
      "outputs": [],
      "source": [
        "@app.route('/')\n",
        "def Index():\n",
        "  valid_user_ids = list(ratings_df['userId'].unique())\n",
        "  valid_movie_titles = list(movies_df['title'].unique())\n",
        "  return render_template('index.html',\n",
        "                         valid_user_ids=valid_user_ids,\n",
        "                         valid_movie_titles=valid_movie_titles )\n",
        "\n",
        "@app.route('/Recommend', methods=['POST'])\n",
        "def Recommend():\n",
        "    movie_title = request.form['title']\n",
        "    user_id = request.form['user_id']\n",
        "\n",
        "    # Appeler les fonctions de recommandation\n",
        "    content_based_results = content_based_recommendation(movie_title)\n",
        "    collaborative_filtering_result = get_genre_based_recommendations(int(user_id),top_n=5)\n",
        "\n",
        "    return render_template('recommend.html',\n",
        "                           movie_title=movie_title,\n",
        "                           user_id=user_id,\n",
        "                           content_based_results=content_based_results,\n",
        "                           collaborative_filtering_results=collaborative_filtering_result)\n"
      ]
    },
    {
      "cell_type": "code",
      "execution_count": null,
      "metadata": {
        "colab": {
          "base_uri": "https://localhost:8080/"
        },
        "id": "lM7LqyaVas-H",
        "outputId": "5855073d-a488-49b9-ed11-16ba6ca909b6"
      },
      "outputs": [
        {
          "output_type": "stream",
          "name": "stdout",
          "text": [
            " * Serving Flask app '__main__'\n",
            " * Debug mode: off\n"
          ]
        },
        {
          "output_type": "stream",
          "name": "stderr",
          "text": [
            "INFO:werkzeug:\u001b[31m\u001b[1mWARNING: This is a development server. Do not use it in a production deployment. Use a production WSGI server instead.\u001b[0m\n",
            " * Running on http://127.0.0.1:5000\n",
            "INFO:werkzeug:\u001b[33mPress CTRL+C to quit\u001b[0m\n"
          ]
        },
        {
          "output_type": "stream",
          "name": "stdout",
          "text": [
            " * Running on http://c126-34-74-227-14.ngrok-free.app\n",
            " * Traffic stats available on http://127.0.0.1:4040\n"
          ]
        },
        {
          "output_type": "stream",
          "name": "stderr",
          "text": [
            "INFO:werkzeug:127.0.0.1 - - [13/Jun/2023 17:05:24] \"GET / HTTP/1.1\" 200 -\n",
            "INFO:werkzeug:127.0.0.1 - - [13/Jun/2023 17:05:24] \"GET /static/css/bootstrap.css HTTP/1.1\" 200 -\n",
            "INFO:werkzeug:127.0.0.1 - - [13/Jun/2023 17:05:24] \"GET /static/js/jquery.min.js HTTP/1.1\" 200 -\n",
            "INFO:werkzeug:127.0.0.1 - - [13/Jun/2023 17:05:24] \"GET /static/css/font-awesome.min.css HTTP/1.1\" 200 -\n",
            "INFO:werkzeug:127.0.0.1 - - [13/Jun/2023 17:05:24] \"GET /static/js/bootstrap.min.js HTTP/1.1\" 200 -\n",
            "INFO:werkzeug:127.0.0.1 - - [13/Jun/2023 17:05:27] \"GET /static/images/Toystory.jpg HTTP/1.1\" 200 -\n",
            "INFO:werkzeug:127.0.0.1 - - [13/Jun/2023 17:05:27] \"GET /static/images/quantumania.jpg HTTP/1.1\" 200 -\n",
            "INFO:werkzeug:127.0.0.1 - - [13/Jun/2023 17:05:27] \"GET /static/images/fast&Furious.jpg HTTP/1.1\" 200 -\n",
            "INFO:werkzeug:127.0.0.1 - - [13/Jun/2023 17:05:27] \"GET /static/images/cinema-bg.jpg HTTP/1.1\" 200 -\n",
            "INFO:werkzeug:127.0.0.1 - - [13/Jun/2023 17:05:32] \"\u001b[33mGET /favicon.ico HTTP/1.1\u001b[0m\" 404 -\n"
          ]
        }
      ],
      "source": [
        "app.run()"
      ]
    },
    {
      "cell_type": "code",
      "source": [
        "from google.colab import drive\n",
        "drive.mount('/content/drive')\n"
      ],
      "metadata": {
        "id": "wcqC5Ezx6OAq",
        "colab": {
          "base_uri": "https://localhost:8080/"
        },
        "outputId": "9c8e4bb3-e2c4-44c2-edf8-31437ebdba30"
      },
      "execution_count": null,
      "outputs": [
        {
          "output_type": "stream",
          "name": "stdout",
          "text": [
            "Mounted at /content/drive\n"
          ]
        }
      ]
    },
    {
      "cell_type": "code",
      "source": [
        "!zip -r /content/static.zip /content/static"
      ],
      "metadata": {
        "colab": {
          "base_uri": "https://localhost:8080/"
        },
        "id": "x-0pzdYr7qI1",
        "outputId": "71db1e47-27b4-4d6d-c7c9-4596b840dca6"
      },
      "execution_count": null,
      "outputs": [
        {
          "output_type": "stream",
          "name": "stdout",
          "text": [
            "updating: content/static/ (stored 0%)\n",
            "updating: content/static/.ipynb_checkpoints/ (stored 0%)\n",
            "updating: content/static/images/ (stored 0%)\n",
            "updating: content/static/images/.ipynb_checkpoints/ (stored 0%)\n",
            "updating: content/static/images/Toystory.jpg (deflated 0%)\n",
            "updating: content/static/images/quantumania.jpg (deflated 0%)\n",
            "updating: content/static/images/cinema-bg.jpg (deflated 0%)\n",
            "updating: content/static/images/fast&Furious.jpg (deflated 0%)\n",
            "updating: content/static/js/ (stored 0%)\n",
            "updating: content/static/js/jquery.min.js (deflated 66%)\n",
            "updating: content/static/js/bootstrap.js (deflated 80%)\n",
            "updating: content/static/js/bootstrap.bundle.min.js (deflated 71%)\n",
            "updating: content/static/js/bootstrap.min.js.map (deflated 75%)\n",
            "updating: content/static/js/bootstrap.esm.js (deflated 79%)\n",
            "updating: content/static/js/bootstrap.js.map (deflated 79%)\n",
            "updating: content/static/js/bootstrap.bundle.js (deflated 79%)\n",
            "updating: content/static/js/bootstrap.esm.min.js (deflated 75%)\n",
            "updating: content/static/js/bootstrap.esm.min.js.map (deflated 75%)\n",
            "updating: content/static/js/bootstrap.min.js (deflated 74%)\n",
            "updating: content/static/js/bootstrap.esm.js.map (deflated 79%)\n",
            "updating: content/static/js/bootstrap.bundle.js.map (deflated 79%)\n",
            "updating: content/static/js/bootstrap.bundle.min.js.map (deflated 74%)\n",
            "updating: content/static/css/ (stored 0%)\n",
            "updating: content/static/css/bootstrap-grid.rtl.css (deflated 90%)\n",
            "updating: content/static/css/bootstrap-utilities.min.css.map (deflated 86%)\n",
            "updating: content/static/css/bootstrap-utilities.rtl.min.css (deflated 87%)\n",
            "updating: content/static/css/font-awesome.min.css (deflated 78%)\n",
            "updating: content/static/css/bootstrap-grid.min.css.map (deflated 88%)\n",
            "updating: content/static/css/bootstrap-utilities.rtl.css (deflated 89%)\n",
            "updating: content/static/css/bootstrap.rtl.min.css.map (deflated 84%)\n",
            "updating: content/static/css/bootstrap-grid.min.css (deflated 88%)\n",
            "updating: content/static/css/bootstrap-grid.rtl.min.css.map (deflated 88%)\n",
            "updating: content/static/css/bootstrap.rtl.css (deflated 88%)\n",
            "updating: content/static/css/bootstrap-grid.css (deflated 90%)\n",
            "updating: content/static/css/bootstrap-utilities.css.map (deflated 84%)\n",
            "updating: content/static/css/bootstrap.rtl.css.map (deflated 83%)\n",
            "updating: content/static/css/bootstrap-reboot.rtl.min.css (deflated 68%)\n",
            "updating: content/static/css/bootstrap-reboot.rtl.css (deflated 72%)\n",
            "updating: content/static/css/bootstrap-utilities.css (deflated 89%)\n",
            "updating: content/static/css/bootstrap.css.map (deflated 83%)\n",
            "updating: content/static/css/bootstrap.rtl.min.css (deflated 87%)\n",
            "updating: content/static/css/bootstrap-reboot.rtl.min.css.map (deflated 77%)\n",
            "updating: content/static/css/bootstrap.min.css (deflated 87%)\n",
            "updating: content/static/css/bootstrap-reboot.min.css.map (deflated 76%)\n",
            "updating: content/static/css/bootstrap-utilities.rtl.min.css.map (deflated 86%)\n",
            "updating: content/static/css/bootstrap-grid.rtl.css.map (deflated 84%)\n",
            "updating: content/static/css/bootstrap-grid.css.map (deflated 84%)\n",
            "updating: content/static/css/bootstrap-utilities.min.css (deflated 87%)\n",
            "updating: content/static/css/bootstrap-reboot.css.map (deflated 80%)\n",
            "updating: content/static/css/bootstrap-grid.rtl.min.css (deflated 88%)\n",
            "updating: content/static/css/bootstrap-reboot.css (deflated 72%)\n",
            "updating: content/static/css/bootstrap.min.css.map (deflated 84%)\n",
            "updating: content/static/css/bootstrap-utilities.rtl.css.map (deflated 84%)\n",
            "updating: content/static/css/bootstrap-reboot.min.css (deflated 68%)\n",
            "updating: content/static/css/jquery.min.css (deflated 66%)\n",
            "updating: content/static/css/bootstrap.css (deflated 88%)\n",
            "updating: content/static/css/bootstrap-reboot.rtl.css.map (deflated 80%)\n"
          ]
        }
      ]
    },
    {
      "cell_type": "code",
      "source": [
        "!zip -r /content/templates.zip /content/templates"
      ],
      "metadata": {
        "colab": {
          "base_uri": "https://localhost:8080/"
        },
        "id": "o7gI_dVN-Ov-",
        "outputId": "d7b6801b-5f91-4615-d3d3-943d5d4571df"
      },
      "execution_count": null,
      "outputs": [
        {
          "output_type": "stream",
          "name": "stdout",
          "text": [
            "  adding: content/templates/ (stored 0%)\n",
            "  adding: content/templates/.ipynb_checkpoints/ (stored 0%)\n",
            "  adding: content/templates/index.html (deflated 62%)\n",
            "  adding: content/templates/recommend.html (deflated 58%)\n"
          ]
        }
      ]
    },
    {
      "cell_type": "code",
      "source": [
        "from google.colab import files\n",
        "files.download('/content/static.zip')\n",
        "files.download('/content/templates.zip')\n",
        "files.download('/content/ngrok')\n",
        "files.download('/content/recommender.db')\n",
        "files.download('/content/ngrok-stable-linux-amd64.tgz')\n"
      ],
      "metadata": {
        "colab": {
          "base_uri": "https://localhost:8080/",
          "height": 17
        },
        "id": "VPIBux-f-WNm",
        "outputId": "b47bce23-89dc-4993-c3b3-aac2d96825b7"
      },
      "execution_count": null,
      "outputs": [
        {
          "output_type": "display_data",
          "data": {
            "text/plain": [
              "<IPython.core.display.Javascript object>"
            ],
            "application/javascript": [
              "\n",
              "    async function download(id, filename, size) {\n",
              "      if (!google.colab.kernel.accessAllowed) {\n",
              "        return;\n",
              "      }\n",
              "      const div = document.createElement('div');\n",
              "      const label = document.createElement('label');\n",
              "      label.textContent = `Downloading \"${filename}\": `;\n",
              "      div.appendChild(label);\n",
              "      const progress = document.createElement('progress');\n",
              "      progress.max = size;\n",
              "      div.appendChild(progress);\n",
              "      document.body.appendChild(div);\n",
              "\n",
              "      const buffers = [];\n",
              "      let downloaded = 0;\n",
              "\n",
              "      const channel = await google.colab.kernel.comms.open(id);\n",
              "      // Send a message to notify the kernel that we're ready.\n",
              "      channel.send({})\n",
              "\n",
              "      for await (const message of channel.messages) {\n",
              "        // Send a message to notify the kernel that we're ready.\n",
              "        channel.send({})\n",
              "        if (message.buffers) {\n",
              "          for (const buffer of message.buffers) {\n",
              "            buffers.push(buffer);\n",
              "            downloaded += buffer.byteLength;\n",
              "            progress.value = downloaded;\n",
              "          }\n",
              "        }\n",
              "      }\n",
              "      const blob = new Blob(buffers, {type: 'application/binary'});\n",
              "      const a = document.createElement('a');\n",
              "      a.href = window.URL.createObjectURL(blob);\n",
              "      a.download = filename;\n",
              "      div.appendChild(a);\n",
              "      a.click();\n",
              "      div.remove();\n",
              "    }\n",
              "  "
            ]
          },
          "metadata": {}
        },
        {
          "output_type": "display_data",
          "data": {
            "text/plain": [
              "<IPython.core.display.Javascript object>"
            ],
            "application/javascript": [
              "download(\"download_78e58430-5c8d-413b-ba00-7207c1b0e951\", \"static.zip\", 3241690)"
            ]
          },
          "metadata": {}
        },
        {
          "output_type": "display_data",
          "data": {
            "text/plain": [
              "<IPython.core.display.Javascript object>"
            ],
            "application/javascript": [
              "\n",
              "    async function download(id, filename, size) {\n",
              "      if (!google.colab.kernel.accessAllowed) {\n",
              "        return;\n",
              "      }\n",
              "      const div = document.createElement('div');\n",
              "      const label = document.createElement('label');\n",
              "      label.textContent = `Downloading \"${filename}\": `;\n",
              "      div.appendChild(label);\n",
              "      const progress = document.createElement('progress');\n",
              "      progress.max = size;\n",
              "      div.appendChild(progress);\n",
              "      document.body.appendChild(div);\n",
              "\n",
              "      const buffers = [];\n",
              "      let downloaded = 0;\n",
              "\n",
              "      const channel = await google.colab.kernel.comms.open(id);\n",
              "      // Send a message to notify the kernel that we're ready.\n",
              "      channel.send({})\n",
              "\n",
              "      for await (const message of channel.messages) {\n",
              "        // Send a message to notify the kernel that we're ready.\n",
              "        channel.send({})\n",
              "        if (message.buffers) {\n",
              "          for (const buffer of message.buffers) {\n",
              "            buffers.push(buffer);\n",
              "            downloaded += buffer.byteLength;\n",
              "            progress.value = downloaded;\n",
              "          }\n",
              "        }\n",
              "      }\n",
              "      const blob = new Blob(buffers, {type: 'application/binary'});\n",
              "      const a = document.createElement('a');\n",
              "      a.href = window.URL.createObjectURL(blob);\n",
              "      a.download = filename;\n",
              "      div.appendChild(a);\n",
              "      a.click();\n",
              "      div.remove();\n",
              "    }\n",
              "  "
            ]
          },
          "metadata": {}
        },
        {
          "output_type": "display_data",
          "data": {
            "text/plain": [
              "<IPython.core.display.Javascript object>"
            ],
            "application/javascript": [
              "download(\"download_a2f4e9ab-1c52-471c-a8d6-8d02378212ca\", \"templates.zip\", 115635)"
            ]
          },
          "metadata": {}
        },
        {
          "output_type": "display_data",
          "data": {
            "text/plain": [
              "<IPython.core.display.Javascript object>"
            ],
            "application/javascript": [
              "\n",
              "    async function download(id, filename, size) {\n",
              "      if (!google.colab.kernel.accessAllowed) {\n",
              "        return;\n",
              "      }\n",
              "      const div = document.createElement('div');\n",
              "      const label = document.createElement('label');\n",
              "      label.textContent = `Downloading \"${filename}\": `;\n",
              "      div.appendChild(label);\n",
              "      const progress = document.createElement('progress');\n",
              "      progress.max = size;\n",
              "      div.appendChild(progress);\n",
              "      document.body.appendChild(div);\n",
              "\n",
              "      const buffers = [];\n",
              "      let downloaded = 0;\n",
              "\n",
              "      const channel = await google.colab.kernel.comms.open(id);\n",
              "      // Send a message to notify the kernel that we're ready.\n",
              "      channel.send({})\n",
              "\n",
              "      for await (const message of channel.messages) {\n",
              "        // Send a message to notify the kernel that we're ready.\n",
              "        channel.send({})\n",
              "        if (message.buffers) {\n",
              "          for (const buffer of message.buffers) {\n",
              "            buffers.push(buffer);\n",
              "            downloaded += buffer.byteLength;\n",
              "            progress.value = downloaded;\n",
              "          }\n",
              "        }\n",
              "      }\n",
              "      const blob = new Blob(buffers, {type: 'application/binary'});\n",
              "      const a = document.createElement('a');\n",
              "      a.href = window.URL.createObjectURL(blob);\n",
              "      a.download = filename;\n",
              "      div.appendChild(a);\n",
              "      a.click();\n",
              "      div.remove();\n",
              "    }\n",
              "  "
            ]
          },
          "metadata": {}
        },
        {
          "output_type": "display_data",
          "data": {
            "text/plain": [
              "<IPython.core.display.Javascript object>"
            ],
            "application/javascript": [
              "download(\"download_bd7a4974-e5ac-4cfc-8684-a1d26f5536bb\", \"ngrok\", 30137501)"
            ]
          },
          "metadata": {}
        },
        {
          "output_type": "display_data",
          "data": {
            "text/plain": [
              "<IPython.core.display.Javascript object>"
            ],
            "application/javascript": [
              "\n",
              "    async function download(id, filename, size) {\n",
              "      if (!google.colab.kernel.accessAllowed) {\n",
              "        return;\n",
              "      }\n",
              "      const div = document.createElement('div');\n",
              "      const label = document.createElement('label');\n",
              "      label.textContent = `Downloading \"${filename}\": `;\n",
              "      div.appendChild(label);\n",
              "      const progress = document.createElement('progress');\n",
              "      progress.max = size;\n",
              "      div.appendChild(progress);\n",
              "      document.body.appendChild(div);\n",
              "\n",
              "      const buffers = [];\n",
              "      let downloaded = 0;\n",
              "\n",
              "      const channel = await google.colab.kernel.comms.open(id);\n",
              "      // Send a message to notify the kernel that we're ready.\n",
              "      channel.send({})\n",
              "\n",
              "      for await (const message of channel.messages) {\n",
              "        // Send a message to notify the kernel that we're ready.\n",
              "        channel.send({})\n",
              "        if (message.buffers) {\n",
              "          for (const buffer of message.buffers) {\n",
              "            buffers.push(buffer);\n",
              "            downloaded += buffer.byteLength;\n",
              "            progress.value = downloaded;\n",
              "          }\n",
              "        }\n",
              "      }\n",
              "      const blob = new Blob(buffers, {type: 'application/binary'});\n",
              "      const a = document.createElement('a');\n",
              "      a.href = window.URL.createObjectURL(blob);\n",
              "      a.download = filename;\n",
              "      div.appendChild(a);\n",
              "      a.click();\n",
              "      div.remove();\n",
              "    }\n",
              "  "
            ]
          },
          "metadata": {}
        },
        {
          "output_type": "display_data",
          "data": {
            "text/plain": [
              "<IPython.core.display.Javascript object>"
            ],
            "application/javascript": [
              "download(\"download_5b160382-c089-43dd-ae0a-d9bcb01a0b42\", \"recommender.db\", 2248704)"
            ]
          },
          "metadata": {}
        },
        {
          "output_type": "display_data",
          "data": {
            "text/plain": [
              "<IPython.core.display.Javascript object>"
            ],
            "application/javascript": [
              "\n",
              "    async function download(id, filename, size) {\n",
              "      if (!google.colab.kernel.accessAllowed) {\n",
              "        return;\n",
              "      }\n",
              "      const div = document.createElement('div');\n",
              "      const label = document.createElement('label');\n",
              "      label.textContent = `Downloading \"${filename}\": `;\n",
              "      div.appendChild(label);\n",
              "      const progress = document.createElement('progress');\n",
              "      progress.max = size;\n",
              "      div.appendChild(progress);\n",
              "      document.body.appendChild(div);\n",
              "\n",
              "      const buffers = [];\n",
              "      let downloaded = 0;\n",
              "\n",
              "      const channel = await google.colab.kernel.comms.open(id);\n",
              "      // Send a message to notify the kernel that we're ready.\n",
              "      channel.send({})\n",
              "\n",
              "      for await (const message of channel.messages) {\n",
              "        // Send a message to notify the kernel that we're ready.\n",
              "        channel.send({})\n",
              "        if (message.buffers) {\n",
              "          for (const buffer of message.buffers) {\n",
              "            buffers.push(buffer);\n",
              "            downloaded += buffer.byteLength;\n",
              "            progress.value = downloaded;\n",
              "          }\n",
              "        }\n",
              "      }\n",
              "      const blob = new Blob(buffers, {type: 'application/binary'});\n",
              "      const a = document.createElement('a');\n",
              "      a.href = window.URL.createObjectURL(blob);\n",
              "      a.download = filename;\n",
              "      div.appendChild(a);\n",
              "      a.click();\n",
              "      div.remove();\n",
              "    }\n",
              "  "
            ]
          },
          "metadata": {}
        },
        {
          "output_type": "display_data",
          "data": {
            "text/plain": [
              "<IPython.core.display.Javascript object>"
            ],
            "application/javascript": [
              "download(\"download_956f51f8-0f62-4133-afc5-591f118c7ef5\", \"ngrok-stable-linux-amd64.tgz\", 13856790)"
            ]
          },
          "metadata": {}
        }
      ]
    },
    {
      "cell_type": "code",
      "source": [],
      "metadata": {
        "id": "mLVHEZwt_Onq"
      },
      "execution_count": null,
      "outputs": []
    }
  ],
  "metadata": {
    "colab": {
      "provenance": [],
      "authorship_tag": "ABX9TyMdiR2iUByjcSPfav8EA3Jc",
      "include_colab_link": true
    },
    "kernelspec": {
      "display_name": "Python 3",
      "name": "python3"
    },
    "language_info": {
      "name": "python"
    }
  },
  "nbformat": 4,
  "nbformat_minor": 0
}